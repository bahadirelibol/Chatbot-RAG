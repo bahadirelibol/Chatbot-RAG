{
 "cells": [
  {
   "cell_type": "markdown",
   "id": "671c6dd6-3777-4b66-a44f-17c4a6cb77b6",
   "metadata": {},
   "source": [
    "# PDF yüklemesinin gerçekleştirilmesi"
   ]
  },
  {
   "cell_type": "code",
   "execution_count": 1,
   "id": "36298505-ea57-4888-891a-70e3155ee189",
   "metadata": {},
   "outputs": [],
   "source": [
    "from langchain_community.document_loaders import PyPDFLoader\n",
    "\n",
    "loader = PyPDFLoader(\"Anayasa.pdf\")\n",
    "data = loader.load()"
   ]
  },
  {
   "cell_type": "code",
   "execution_count": 2,
   "id": "5afc695d-0766-422b-a5fd-59b5d6b598fa",
   "metadata": {},
   "outputs": [
    {
     "data": {
      "text/plain": [
       "74"
      ]
     },
     "execution_count": 2,
     "metadata": {},
     "output_type": "execute_result"
    }
   ],
   "source": [
    "len(data)"
   ]
  },
  {
   "cell_type": "markdown",
   "id": "978bbb2b-a36a-4c0e-8dde-2a73025a6b35",
   "metadata": {},
   "source": [
    "# Veriyi parçalara ayırma (Chunking İşlemi)"
   ]
  },
  {
   "cell_type": "markdown",
   "id": "fc70bf16-a10e-48ff-9ab1-644048395e86",
   "metadata": {},
   "source": [
    "Tek bir büyük metin parçası yerine, dokümantasyonu daha küçük parçalara böldük? Doğru bilgiyi daha kolay bulmasını sağlayabilmek için bu işlemi gerçekleştirdik.\n",
    "Metni 1000 karakterlik parçalar halinde bölerek işlemeye hazır hale getiriyoruz."
   ]
  },
  {
   "cell_type": "code",
   "execution_count": 4,
   "id": "9d31e541-66d0-4eb0-b81d-43c075410807",
   "metadata": {},
   "outputs": [
    {
     "name": "stdout",
     "output_type": "stream",
     "text": [
      "Total 272\n"
     ]
    }
   ],
   "source": [
    "from langchain_text_splitters import RecursiveCharacterTextSplitter\n",
    "\n",
    "text_splitter = RecursiveCharacterTextSplitter(chunk_size=1000)\n",
    "docs = text_splitter.split_documents(data)\n",
    "\n",
    "print(\"Total\", len(docs))"
   ]
  },
  {
   "cell_type": "code",
   "execution_count": 5,
   "id": "e13cb2de-b490-4b6c-9ec2-3dca2db23a37",
   "metadata": {},
   "outputs": [
    {
     "data": {
      "text/plain": [
       "Document(metadata={'producer': 'Microsoft® Word 2013', 'creator': 'Microsoft® Word 2013', 'creationdate': '2020-03-04T17:29:51+03:00', 'author': 'Canan Baysal', 'moddate': '2020-03-04T17:29:51+03:00', 'source': 'Anayasa.pdf', 'total_pages': 74, 'page': 2, 'page_label': '3'}, page_content='3 \\n \\nMadde 5 – Devletin temel amaç ve görevleri, Türk milletinin bağımsızlığını ve bütünlüğünü, \\nülkenin bölünmezliğini, Cumhuriyeti ve demo krasiyi korumak, kişilerin ve toplumun refah, huzur ve \\nmutluluğunu sağlamak; kişinin temel hak ve hürriyetlerini, sosyal hukuk devleti ve adalet ilkeleriyle \\nbağdaşmayacak surette sınırlayan siyasal, ekonomik ve sosyal engelleri kaldırmaya, insanın maddi ve  \\nmanevi varlığının gelişmesi için gerekli şartları hazırlamaya çalışmaktır. \\n \\nVI. Egemenlik \\nMadde 6 – Egemenlik, kayıtsız şartsız Milletindir. \\nTürk Milleti, egemenliğini, Anayasanın koyduğu esaslara göre, yetkili organları eliyle kullanır. \\nEgemenliğin kullanılması, hiçbir surette hiçbir kişiye, zümreye veya sınıfa bırakılamaz. Hiçbir \\nkimse veya organ kaynağını Anayasadan almayan bir Devlet yetkisi kullanamaz. \\n \\nVII. Yasama yetkisi \\nMadde 7 – Yasama yetkisi Türk Milleti adına Türkiye Büyük Millet Meclisinindir.  Bu yetki \\ndevredilemez. \\n \\nVIII. Yürütme yetkisi ve görevi')"
      ]
     },
     "execution_count": 5,
     "metadata": {},
     "output_type": "execute_result"
    }
   ],
   "source": [
    "docs[7]"
   ]
  },
  {
   "cell_type": "markdown",
   "id": "c106dad4-b943-4bad-a8ac-e0f7e9e9f7bb",
   "metadata": {},
   "source": [
    "# Google Generative AI Embeddings'i kullanarak Embedding oluşturma kısmı"
   ]
  },
  {
   "cell_type": "markdown",
   "id": "2de47dbb-5596-46f4-9c26-f6ca1ce7b92b",
   "metadata": {},
   "source": [
    "Text veriyi sayısal bir veriye çevirmeye çalıştık."
   ]
  },
  {
   "cell_type": "code",
   "execution_count": 8,
   "id": "29581c55-ac8f-4043-b66a-7bc56064f0a2",
   "metadata": {},
   "outputs": [
    {
     "data": {
      "text/plain": [
       "[0.017157701775431633,\n",
       " -0.009304771199822426,\n",
       " -0.011424741707742214,\n",
       " -0.045027956366539,\n",
       " 0.029878143221139908]"
      ]
     },
     "execution_count": 8,
     "metadata": {},
     "output_type": "execute_result"
    }
   ],
   "source": [
    "from langchain_chroma import Chroma\n",
    "from langchain_google_genai import GoogleGenerativeAIEmbeddings\n",
    "from dotenv import load_dotenv\n",
    "\n",
    "load_dotenv()\n",
    "\n",
    "embeddings = GoogleGenerativeAIEmbeddings(model=\"models/embedding-001\")\n",
    "vector = embeddings.embed_query(\"hello\")\n",
    "vector[:5]"
   ]
  },
  {
   "cell_type": "markdown",
   "id": "49df1a9d-9e47-4df5-a801-7bc475be4855",
   "metadata": {},
   "source": [
    "# ChromaDB üzerine kayıtı işlemi"
   ]
  },
  {
   "cell_type": "code",
   "execution_count": 9,
   "id": "0914eaa2-2b23-481b-8789-7400e972c37a",
   "metadata": {},
   "outputs": [],
   "source": [
    "vectorstore = Chroma.from_documents(documents=docs,embedding=embeddings)"
   ]
  },
  {
   "cell_type": "code",
   "execution_count": 10,
   "id": "a3a86541-2a65-44fe-b196-dbf90c9d9ead",
   "metadata": {},
   "outputs": [],
   "source": [
    "retriever = vectorstore.as_retriever(search_type=\"similarity\", search_kwargs= {\"k\" : 10})  "
   ]
  },
  {
   "cell_type": "code",
   "execution_count": 11,
   "id": "3cc35d19-5386-4578-b73d-075e98a7bc42",
   "metadata": {},
   "outputs": [],
   "source": [
    "retrieved_docs = retriever.invoke(\"Devletin şekli nedir?\")"
   ]
  },
  {
   "cell_type": "code",
   "execution_count": 12,
   "id": "18fe0b94-25d3-4913-b852-c5392a5a5026",
   "metadata": {},
   "outputs": [
    {
     "data": {
      "text/plain": [
       "10"
      ]
     },
     "execution_count": 12,
     "metadata": {},
     "output_type": "execute_result"
    }
   ],
   "source": [
    "len(retrieved_docs)"
   ]
  },
  {
   "cell_type": "code",
   "execution_count": 14,
   "id": "4083df6a-2344-44b6-af68-8be35f9ec822",
   "metadata": {},
   "outputs": [],
   "source": [
    "#print(retrieved_docs[5].page_content)"
   ]
  },
  {
   "cell_type": "markdown",
   "id": "159d87bb-988a-4478-899d-4c3186ff9944",
   "metadata": {},
   "source": [
    "# Google Gemini API yapısını kullanarak LLM Invoke işlemleri"
   ]
  },
  {
   "cell_type": "code",
   "execution_count": null,
   "id": "e26656fb-49e5-4ad5-ae0c-9c8af90dc363",
   "metadata": {},
   "outputs": [],
   "source": [
    "#Temperature Değer Aralığı\n",
    "\n",
    "#Düşük Değerler(0.1-0.4):Daha kesin ve daha tutarlı cevaplar vermemizi sağlayabilir. Model daha tahmin edilebilir hale gelir.\n",
    "#Orta Değerler(0.4-0.7): Hem mantıklı hem de yaratıcı cevaplar verebiliyor.\\n\n",
    "#Yüksek Değerler(0.8-1.0) : Daha rastgele ve yaratıcı cevaplar ve bazen de belki tutarsız cevaplar verebilir."
   ]
  },
  {
   "cell_type": "code",
   "execution_count": 15,
   "id": "eecb0365-e92e-4c73-8680-10eddda5aa29",
   "metadata": {},
   "outputs": [],
   "source": [
    "from langchain_google_genai import ChatGoogleGenerativeAI\n",
    "\n",
    "llm = ChatGoogleGenerativeAI(\n",
    "    model=\"gemini-1.5-pro\",\n",
    "    temperature=0.3,\n",
    "    max_tokens=500\n",
    ")"
   ]
  },
  {
   "cell_type": "code",
   "execution_count": 16,
   "id": "f13395c6-bde7-4f74-86ea-dee76614ace6",
   "metadata": {},
   "outputs": [],
   "source": [
    "from langchain.chains import create_retrieval_chain\n",
    "from langchain_core.prompts import ChatPromptTemplate\n",
    "from langchain.chains.combine_documents import create_stuff_documents_chain"
   ]
  },
  {
   "cell_type": "code",
   "execution_count": 17,
   "id": "e03dba2a-992d-48da-9594-dfbc19147002",
   "metadata": {},
   "outputs": [],
   "source": [
    "system_prompt = (\n",
    "    \"Sen bir yardımcı asistansın ve yalnızca T.C. anayasası ve anayasa maddeleri hakkında sorulara cevap veriyorsun. \"\n",
    "    \"Yanıtlarını yalnızca verilen bağlam içeriğinden oluştur. \"\n",
    "    \"Eğer sorunun cevabını bilmiyorsan, 'Bu konuda yardımcı olamıyorum.' de. \"\n",
    "    \"Cevaplarını en fazla üç cümle ile ver ve doğru bilgi içerdiğinden emin ol.\\n\\n\"\n",
    "    \"{context}\"\n",
    ")"
   ]
  },
  {
   "cell_type": "code",
   "execution_count": 18,
   "id": "25fb3f1d-deae-4b02-92d2-669d2ec781cb",
   "metadata": {},
   "outputs": [],
   "source": [
    "prompt = ChatPromptTemplate.from_messages(\n",
    "    [\n",
    "        (\"system\",system_prompt),\n",
    "        (\"human\",\"{input}\")\n",
    "    ]\n",
    ")"
   ]
  },
  {
   "cell_type": "markdown",
   "id": "14ee84ba-16af-42eb-83f2-f6e4c2da14c3",
   "metadata": {},
   "source": [
    "# Soru-Cevap Üretme Zinciri Oluşturu (LLM+PROMPT)"
   ]
  },
  {
   "cell_type": "code",
   "execution_count": 19,
   "id": "17af645a-cb4b-42b6-aec4-8be784064749",
   "metadata": {},
   "outputs": [],
   "source": [
    "question_answer_chain = create_stuff_documents_chain(llm,prompt)"
   ]
  },
  {
   "cell_type": "markdown",
   "id": "e795e5b4-e36e-4d2a-9238-870f3a914408",
   "metadata": {},
   "source": [
    "# RAG Zinciri Oluşturma ( RAG + LLM Entegrasyonun Gerçekleşmesi )"
   ]
  },
  {
   "cell_type": "code",
   "execution_count": 20,
   "id": "0ae31482-0e1f-4d34-910c-d5660bff310f",
   "metadata": {},
   "outputs": [],
   "source": [
    "rag_chain = create_retrieval_chain(retriever,question_answer_chain)"
   ]
  },
  {
   "cell_type": "code",
   "execution_count": 21,
   "id": "e2776e13-3609-45d0-92d1-30a52c285aec",
   "metadata": {},
   "outputs": [],
   "source": [
    "# Kullanıcı Sorgusunu Çalıştırarak Cevap Üretme İşlemi"
   ]
  },
  {
   "cell_type": "code",
   "execution_count": 22,
   "id": "55ae2f25-9a6c-4813-a1d9-2ceddacea382",
   "metadata": {},
   "outputs": [],
   "source": [
    "response = rag_chain.invoke({\"input\":\"Devletin şekli nedir?\"})"
   ]
  },
  {
   "cell_type": "code",
   "execution_count": 25,
   "id": "0040621c-3639-405b-919b-e6e3faa8297e",
   "metadata": {},
   "outputs": [],
   "source": [
    "#print(response)"
   ]
  },
  {
   "cell_type": "code",
   "execution_count": 24,
   "id": "69cf5439-8d83-41b4-ab3c-968fc07da5d9",
   "metadata": {},
   "outputs": [
    {
     "name": "stdout",
     "output_type": "stream",
     "text": [
      "Türkiye Devleti bir Cumhuriyettir.\n"
     ]
    }
   ],
   "source": [
    "print(response[\"answer\"]);"
   ]
  },
  {
   "cell_type": "code",
   "execution_count": null,
   "id": "dd3abc1a-edbc-4797-ab75-de49d9edaccf",
   "metadata": {},
   "outputs": [],
   "source": []
  }
 ],
 "metadata": {
  "kernelspec": {
   "display_name": "Python 3 (ipykernel)",
   "language": "python",
   "name": "python3"
  },
  "language_info": {
   "codemirror_mode": {
    "name": "ipython",
    "version": 3
   },
   "file_extension": ".py",
   "mimetype": "text/x-python",
   "name": "python",
   "nbconvert_exporter": "python",
   "pygments_lexer": "ipython3",
   "version": "3.10.16"
  }
 },
 "nbformat": 4,
 "nbformat_minor": 5
}
