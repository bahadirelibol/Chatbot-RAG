{
 "cells": [
  {
   "cell_type": "markdown",
   "id": "671c6dd6-3777-4b66-a44f-17c4a6cb77b6",
   "metadata": {},
   "source": [
    "# PDF yüklemesinin gerçekleştirilmesi"
   ]
  },
  {
   "cell_type": "code",
   "execution_count": 1,
   "id": "36298505-ea57-4888-891a-70e3155ee189",
   "metadata": {},
   "outputs": [],
   "source": [
    "from langchain_community.document_loaders import PyPDFLoader\n",
    "\n",
    "loader = PyPDFLoader(\"basketbol_kural.pdf\")\n",
    "data = loader.load()"
   ]
  },
  {
   "cell_type": "code",
   "execution_count": 2,
   "id": "5afc695d-0766-422b-a5fd-59b5d6b598fa",
   "metadata": {},
   "outputs": [
    {
     "data": {
      "text/plain": [
       "97"
      ]
     },
     "execution_count": 2,
     "metadata": {},
     "output_type": "execute_result"
    }
   ],
   "source": [
    "len(data)"
   ]
  },
  {
   "cell_type": "markdown",
   "id": "978bbb2b-a36a-4c0e-8dde-2a73025a6b35",
   "metadata": {},
   "source": [
    "# Veriyi parçalara ayırma (Chunking İşlemi)"
   ]
  },
  {
   "cell_type": "markdown",
   "id": "fc70bf16-a10e-48ff-9ab1-644048395e86",
   "metadata": {},
   "source": [
    "Tek bir büyük metin parçası yerine, dokümantasyonu daha küçük parçalara böldük? Doğru bilgiyi daha kolay bulmasını sağlayabilmek için bu işlemi gerçekleştirdik.\n",
    "Metni 1000 karakterlik parçalar halinde bölerek işlemeye hazır hale getiriyoruz."
   ]
  },
  {
   "cell_type": "code",
   "execution_count": 3,
   "id": "9d31e541-66d0-4eb0-b81d-43c075410807",
   "metadata": {},
   "outputs": [
    {
     "name": "stdout",
     "output_type": "stream",
     "text": [
      "Total 273\n"
     ]
    }
   ],
   "source": [
    "from langchain_text_splitters import RecursiveCharacterTextSplitter\n",
    "\n",
    "text_splitter = RecursiveCharacterTextSplitter(chunk_size=1000)\n",
    "docs = text_splitter.split_documents(data)\n",
    "\n",
    "print(\"Total\", len(docs))"
   ]
  },
  {
   "cell_type": "code",
   "execution_count": 4,
   "id": "e13cb2de-b490-4b6c-9ec2-3dca2db23a37",
   "metadata": {},
   "outputs": [
    {
     "data": {
      "text/plain": [
       "Document(metadata={'producer': 'Adobe PDF Library 22.1.174', 'creator': 'Word için Acrobat PDFMaker 22', 'creationdate': '2022-10-10T16:05:00+03:00', 'author': 'Murat Biricik', 'comments': '', 'company': '', 'keywords': '', 'moddate': '2022-10-10T16:05:36+03:00', 'sourcemodified': 'D:20221010130433', 'subject': '', 'title': '', 'source': 'basketbol_kural.pdf', 'total_pages': 97, 'page': 4, 'page_label': '5'}, page_content='BASKETBOL OYUN KURALLARI \\n \\n \\nEkim 2022 v.01 TÜRKİYE BASKETBOL FEDERASYONU 3 \\n \\n MADDE 35 ÇİFT FAUL …………………………………………………………………………………………………………………..42  \\n MADDE 36 TEKNİK FAUL ………………………………………………………………………………………………………………43  \\n MADDE 37 SPORTMENLİK DIŞI FAUL ......……………………………………………………………………………………….44 \\n MADDE 38 DİSKALİFİYE EDİCİ FAUL ...…...…...…………………………………………………………………………………45  \\n MADDE 39 KAVGA ..……......………………………………………………………………………………………………………….47  \\nKURAL YEDİ – GENEL KOŞULLAR ......…………………………………………………………………………………………………………..48  \\n MADDE 40 BİR OYUNCUNUN 5 FAULÜ …………………………………………………………………………………………..48  \\n MADDE 41 TAKIM FAULLERİ CEZASI ........………………………………………………………………………………………48  \\n MADDE 42 ÖZEL DURUMLAR ……………………………………………………………………………………………………….48  \\n MADDE 43 SERBEST ATIŞLAR ……………………………………………………………………………………………………….49  \\n MADDE 44 DÜZELTİLEBİLİR HATALAR ……………………………………………………………………………………………51  \\nKURAL SEKİZ – HAKEMLER, MASA GÖREVLİLERİ, KOMİSER: GÖREVLERİ ve YETKİLERİ .....…………………....….53')"
      ]
     },
     "execution_count": 4,
     "metadata": {},
     "output_type": "execute_result"
    }
   ],
   "source": [
    "docs[7]"
   ]
  },
  {
   "cell_type": "markdown",
   "id": "c106dad4-b943-4bad-a8ac-e0f7e9e9f7bb",
   "metadata": {},
   "source": [
    "# Google Generative AI Embeddings'i kullanarak Embedding oluşturma kısmı"
   ]
  },
  {
   "cell_type": "markdown",
   "id": "2de47dbb-5596-46f4-9c26-f6ca1ce7b92b",
   "metadata": {},
   "source": [
    "Text veriyi sayısal bir veriye çevirmeye çalıştık."
   ]
  },
  {
   "cell_type": "code",
   "execution_count": 5,
   "id": "29581c55-ac8f-4043-b66a-7bc56064f0a2",
   "metadata": {},
   "outputs": [
    {
     "data": {
      "text/plain": [
       "[0.017157701775431633,\n",
       " -0.009304771199822426,\n",
       " -0.011424741707742214,\n",
       " -0.045027956366539,\n",
       " 0.029878143221139908]"
      ]
     },
     "execution_count": 5,
     "metadata": {},
     "output_type": "execute_result"
    }
   ],
   "source": [
    "from langchain_chroma import Chroma\n",
    "from langchain_google_genai import GoogleGenerativeAIEmbeddings\n",
    "from dotenv import load_dotenv\n",
    "\n",
    "load_dotenv()\n",
    "\n",
    "embeddings = GoogleGenerativeAIEmbeddings(model=\"models/embedding-001\")\n",
    "vector = embeddings.embed_query(\"hello\")\n",
    "vector[:5]"
   ]
  },
  {
   "cell_type": "markdown",
   "id": "49df1a9d-9e47-4df5-a801-7bc475be4855",
   "metadata": {},
   "source": [
    "# ChromaDB üzerine kayıtı işlemi"
   ]
  },
  {
   "cell_type": "code",
   "execution_count": 6,
   "id": "0914eaa2-2b23-481b-8789-7400e972c37a",
   "metadata": {},
   "outputs": [],
   "source": [
    "vectorstore = Chroma.from_documents(documents=docs,embedding=embeddings)"
   ]
  },
  {
   "cell_type": "code",
   "execution_count": 7,
   "id": "a3a86541-2a65-44fe-b196-dbf90c9d9ead",
   "metadata": {},
   "outputs": [],
   "source": [
    "retriever = vectorstore.as_retriever(search_type=\"similarity\", search_kwargs= {\"k\" : 10})  "
   ]
  },
  {
   "cell_type": "code",
   "execution_count": 9,
   "id": "3cc35d19-5386-4578-b73d-075e98a7bc42",
   "metadata": {},
   "outputs": [],
   "source": [
    "retrieved_docs = retriever.invoke(\"Arkadan yapılan kural dışı savunma nedir?\")"
   ]
  },
  {
   "cell_type": "code",
   "execution_count": 10,
   "id": "18fe0b94-25d3-4913-b852-c5392a5a5026",
   "metadata": {},
   "outputs": [
    {
     "data": {
      "text/plain": [
       "10"
      ]
     },
     "execution_count": 10,
     "metadata": {},
     "output_type": "execute_result"
    }
   ],
   "source": [
    "len(retrieved_docs)"
   ]
  },
  {
   "cell_type": "code",
   "execution_count": 11,
   "id": "4083df6a-2344-44b6-af68-8be35f9ec822",
   "metadata": {},
   "outputs": [
    {
     "name": "stdout",
     "output_type": "stream",
     "text": [
      "kabul edilir. \n",
      "16.2 Kural \n",
      "16.2.1 Top, hücum edilen rakibin sepetine girdiğinde aşağıdaki gibi sayı kaydedilir: \n",
      "• Serbest atıştan yapıldığında 1 sayı \n",
      "• 2 sayılık bölgeden yapıldığında 2 sayı \n",
      "• 3 sayılık bölgeden yapıldığında 3 sayı \n",
      "• Son serbest atışta top çembere temas ettikten sonra ve sepete girmeden önce, bir hücum ya \n",
      "da savunma oyuncusu tarafından kurallara uygun olarak topa temas edildiğinde 2 sayı sayılır. \n",
      "16.2.2 Bir oyuncu kazara/istem dışı olarak kendi sepetine sayı yaparsa 2 sayı verilir ve rakip takımın \n",
      "sahadaki kaptanı yapmış gibi kaydedilir. \n",
      "16.2.3 Bir oyuncu bilerek kendi sepetine sayı yaparsa bu bir ihlaldir ve sayı geçerli sayılmaz. \n",
      "16.2.4 Bir oyuncu topun tamamının sepete alttan girmesine neden olursa, bu bir ihlaldir.  \n",
      "16.2.5 Bir oyuncunun topun oyuna sokulmasında ya da son serbest atış sonrasındaki ribauntta topun \n",
      "kontrolünü sağlaması ve bir atış girişiminde bulunabilmesi için oyun saati 0.3 (saniyenin onda\n"
     ]
    }
   ],
   "source": [
    "#print(retrieved_docs[5].page_content)"
   ]
  },
  {
   "cell_type": "markdown",
   "id": "159d87bb-988a-4478-899d-4c3186ff9944",
   "metadata": {},
   "source": [
    "# Google Gemini API yapısını kullanarak LLM Invoke işlemleri"
   ]
  },
  {
   "cell_type": "code",
   "execution_count": 12,
   "id": "e26656fb-49e5-4ad5-ae0c-9c8af90dc363",
   "metadata": {},
   "outputs": [],
   "source": [
    "#Temperature Değer Aralığı\n",
    "\n",
    "#Düşük Değerler(0.1-0.4):Daha kesin ve daha tutarlı cevaplar vermemizi sağlayabilir. Model daha tahmin edilebilir hale gelir.\n",
    "#Orta Değerler(0.4-0.7): Hem mantıklı hem de yaratıcı cevaplar verebiliyor.\\n\n",
    "#Yüksek Değerler(0.8-1.0) : Daha rastgele ve yaratıcı cevaplar ve bazen de belki tutarsız cevaplar verebilir."
   ]
  },
  {
   "cell_type": "code",
   "execution_count": 13,
   "id": "eecb0365-e92e-4c73-8680-10eddda5aa29",
   "metadata": {},
   "outputs": [],
   "source": [
    "from langchain_google_genai import ChatGoogleGenerativeAI\n",
    "\n",
    "llm = ChatGoogleGenerativeAI(\n",
    "    model=\"gemini-1.5-pro\",\n",
    "    temperature=0.3,\n",
    "    max_tokens=500\n",
    ")"
   ]
  },
  {
   "cell_type": "code",
   "execution_count": 14,
   "id": "f13395c6-bde7-4f74-86ea-dee76614ace6",
   "metadata": {},
   "outputs": [],
   "source": [
    "from langchain.chains import create_retrieval_chain\n",
    "from langchain_core.prompts import ChatPromptTemplate\n",
    "from langchain.chains.combine_documents import create_stuff_documents_chain"
   ]
  },
  {
   "cell_type": "code",
   "execution_count": 15,
   "id": "e03dba2a-992d-48da-9594-dfbc19147002",
   "metadata": {},
   "outputs": [],
   "source": [
    "system_prompt = (\n",
    "    \"Sen bir yardımcı asistansın ve yalnızca basketbol kuralları hakkında sorulara cevap veriyorsun. \"\n",
    "    \"Yanıtlarını yalnızca verilen bağlam içeriğinden oluştur. \"\n",
    "    \"Eğer sorunun cevabını bilmiyorsan, 'Bu konuda yardımcı olamıyorum.' de. \"\n",
    "    \"Cevaplarını en fazla üç cümle ile ver ve doğru bilgi içerdiğinden emin ol.\\n\\n\"\n",
    "    \"{context}\"\n",
    ")"
   ]
  },
  {
   "cell_type": "code",
   "execution_count": 16,
   "id": "25fb3f1d-deae-4b02-92d2-669d2ec781cb",
   "metadata": {},
   "outputs": [],
   "source": [
    "prompt = ChatPromptTemplate.from_messages(\n",
    "    [\n",
    "        (\"system\",system_prompt),\n",
    "        (\"human\",\"{input}\")\n",
    "    ]\n",
    ")"
   ]
  },
  {
   "cell_type": "markdown",
   "id": "14ee84ba-16af-42eb-83f2-f6e4c2da14c3",
   "metadata": {},
   "source": [
    "# Soru-Cevap Üretme Zinciri Oluşturu (LLM+PROMPT)"
   ]
  },
  {
   "cell_type": "code",
   "execution_count": 17,
   "id": "17af645a-cb4b-42b6-aec4-8be784064749",
   "metadata": {},
   "outputs": [],
   "source": [
    "question_answer_chain = create_stuff_documents_chain(llm,prompt)"
   ]
  },
  {
   "cell_type": "markdown",
   "id": "e795e5b4-e36e-4d2a-9238-870f3a914408",
   "metadata": {},
   "source": [
    "# RAG Zinciri Oluşturma ( RAG + LLM Entegrasyonun Gerçekleşmesi )"
   ]
  },
  {
   "cell_type": "code",
   "execution_count": 18,
   "id": "0ae31482-0e1f-4d34-910c-d5660bff310f",
   "metadata": {},
   "outputs": [],
   "source": [
    "rag_chain = create_retrieval_chain(retriever,question_answer_chain)"
   ]
  },
  {
   "cell_type": "code",
   "execution_count": 21,
   "id": "e2776e13-3609-45d0-92d1-30a52c285aec",
   "metadata": {},
   "outputs": [],
   "source": [
    "# Kullanıcı Sorgusunu Çalıştırarak Cevap Üretme İşlemi"
   ]
  },
  {
   "cell_type": "code",
   "execution_count": 19,
   "id": "55ae2f25-9a6c-4813-a1d9-2ceddacea382",
   "metadata": {},
   "outputs": [],
   "source": [
    "response = rag_chain.invoke({\"input\":\"Arkadan yapılan kural dışı savunma nedir?\"})"
   ]
  },
  {
   "cell_type": "code",
   "execution_count": 20,
   "id": "0040621c-3639-405b-919b-e6e3faa8297e",
   "metadata": {},
   "outputs": [
    {
     "name": "stdout",
     "output_type": "stream",
     "text": [
      "{'input': 'Arkadan yapılan kural dışı savunma nedir?', 'context': [Document(id='e02041c6-5fd3-471c-9aac-46ba1f0b6392', metadata={'author': 'Murat Biricik', 'comments': '', 'company': '', 'creationdate': '2022-10-10T16:05:00+03:00', 'creator': 'Word için Acrobat PDFMaker 22', 'keywords': '', 'moddate': '2022-10-10T16:05:36+03:00', 'page': 57, 'page_label': '58', 'producer': 'Adobe PDF Library 22.1.174', 'source': 'basketbol_kural.pdf', 'sourcemodified': 'D:20221010130433', 'subject': '', 'title': '', 'total_pages': 97}, page_content='Madde 47  Hakemler: Görevleri ve yetkileri \\n47.1 Hakemler, hakem masası, takım sıraları ve çizgilerin hemen gerisindeki zemin alanları da dahil \\nolmak üzere, sınır çizgileri içinde ya da dışında, kurallara aykırı olan konularda karar verme \\nyetkilerine sahip olacaktır. \\n47.2 Hakemler kurallara aykırı bir durum olduğunda, bir çeyrek ya da uzatma sona erdiğinde ya da \\noyunu durdurmaya gerekli gördüklerinde düdüklerini çalacaklardır. Hakemler, sahadan yapılan \\nbaşarılı bir atış, başarılı bir serbest atış ya da topun canlanmasından sonra düdük \\nçalmayacaklardır. \\n47.3 Hakemler, kişisel bir temas ya da ihlale karar verirken her durumda, aşağıdaki temel prensipleri \\ndikkate alacak ve buna göre değerlendirecektir. \\n• Kuralların ruhu ve amacı ile oyunun bütünlüğünü koruma ihtiyacı. \\n• “Avantaj/dezavantaj” kavramının uygulanmasının tutarlılığı. Hakemler, sorumlu oyuncuya bir \\navantaj sağlamayan veya rakibini dezavantajlı duruma düşürmeyen küçük ve önemsiz kişisel'), Document(id='8c0e4af3-f08c-4306-8c3b-d49459b3ab7d', metadata={'author': 'Murat Biricik', 'comments': '', 'company': '', 'creationdate': '2022-10-10T16:05:00+03:00', 'creator': 'Word için Acrobat PDFMaker 22', 'keywords': '', 'moddate': '2022-10-10T16:05:36+03:00', 'page': 43, 'page_label': '44', 'producer': 'Adobe PDF Library 22.1.174', 'source': 'basketbol_kural.pdf', 'sourcemodified': 'D:20221010130433', 'subject': '', 'title': '', 'total_pages': 97}, page_content='BASKETBOL OYUN KURALLARI \\n \\n \\nEkim 2022 v.01 TÜRKİYE BASKETBOL FEDERASYONU 42 \\n \\n33.13  Arkadan yapılan kural dışı savunma \\n  Arkadan yapılan kural dışı savunma, bir savunma oyuncusu tarafından bir rakibe arkadan yapılan \\n  bir kişisel temastır. Savunma oyuncusunun topla oynama girişimi gerçeği, bir rakibine arkadan \\n  yaptığı temasın haklılığını göstermez. \\n33.14  Tutma \\n  Tutma, bir rakip oyuncunun hareket serbestliğine müdahale eden kurallara aykırı bir kişisel  \\n  temastır. Bu temas (tutma) vücudun herhangi bir kısmı ile olabilir.  \\n33.15  İtme \\n  İtme, bir oyuncunun toplu ya da topsuz olan bir rakibini vücudunun herhangi bir bölümüyle zorla \\n  hareket ettirdiği veya hareket ettirmeye çalıştığı kural dışı bir kişisel temastır. \\n33.16  Faul yapılmış aldatması  \\n  Aldatma, bir oyuncunun kendisine faul yapılmış fikri oluşturmak ve böylece bir avantaj elde  \\n  etmek için faul yapılmış gibi göstermesi ya da doğal olmayan abartılı hareketler yapmasıdır .'), Document(id='0f8bf925-f11e-4f9a-8090-3ff2b5a6b78c', metadata={'author': 'Murat Biricik', 'comments': '', 'company': '', 'creationdate': '2022-10-10T16:05:00+03:00', 'creator': 'Word için Acrobat PDFMaker 22', 'keywords': '', 'moddate': '2022-10-10T16:05:36+03:00', 'page': 32, 'page_label': '33', 'producer': 'Adobe PDF Library 22.1.174', 'source': 'basketbol_kural.pdf', 'sourcemodified': 'D:20221010130433', 'subject': '', 'title': '', 'total_pages': 97}, page_content='25.2.2  Yere düşen, sahada uzanan ya da oturan bir oyuncu: \\n• Bir oyuncunun topu tutarken yere düşüp kayması ya da yerde yatarken veya otururken topun \\nkontrolünü ele geçirmesi kurallar uygundur. \\n• Oyuncu topu tutarken yerde yuvarlanır ya da ayağa kalkmaya çalışırsa bu bir ihlaldir. \\nMadde 26  3 saniye \\n26.1  Kural \\n26.1.1  Bir oyuncu, takımı ön sahadaki canlı bir topu kontrol ederken ve oyun saati çalışırken, rakibinin \\n  kısıtlamalı alanında arka arkaya 3 saniyeden fazla kalamaz. \\n26.1.2  Aşağıdaki durumlarda olan oyuncuya izin verilmelidir. \\n• Kısıtlamalı alanı terk etmeye çalışırsa \\n• Kendisi ya da takım arkadaşı atış halindeyken ve sahadan yapılan bir atışta top oyuncunun el \\nya da ellerini terk ediyorken ya da yeni terk etmişken kısıtlamalı alandaysa.  \\n• Arka arkaya 3 saniyeden daha az kaldıktan sonra şut atmak için kısıtlamalı alanda dripling \\nyaparsa. \\n26.1.3  Kendisinin kısıtlamalı alan dışında olduğunun belirlenmesi için, oyuncu her iki ayağını da'), Document(id='303dac55-3cdd-4034-be2a-3c0c08fbc3c3', metadata={'author': 'Murat Biricik', 'comments': '', 'company': '', 'creationdate': '2022-10-10T16:05:00+03:00', 'creator': 'Word için Acrobat PDFMaker 22', 'keywords': '', 'moddate': '2022-10-10T16:05:36+03:00', 'page': 78, 'page_label': '79', 'producer': 'Adobe PDF Library 22.1.174', 'source': 'basketbol_kural.pdf', 'sourcemodified': 'D:20221010130433', 'subject': '', 'title': '', 'total_pages': 97}, page_content='veya ● işaretinin yanına) sayıyı ya da serbest atışı atan oyuncunun \\nnumarasını kaydedecektir. \\nB.11  Devam eden skor: Ek talimatlar \\nB.11.1  Bir oyuncu tarafından atılan 3 sayılık atış, oyuncunun numarası daire içine  \\n  alınarak kaydedilecektir. \\nB.11.2  Bir oyuncunun yanlışlıkla kendi sepetine attığı sayı, rakip takımın   \\n  sahadaki kaptanı yapmış gibi kaydedilecektir. \\nB.11.3  Top sepete girmediğinde olan sayılar (Madde 31- Sayıya yönelen top ve  \\n  müdahale), şut girişiminde bulunan oyuncu yapılmış gibi kaydedilecektir. \\nB.11.4  Her çeyreğin ya da uzatmaların sonunda sayı görevlisi, her takımın attığı  \\n  son sayısının etrafına kalın bir daire çizecek (O), ardından bu sayıların ve  \\n  son sayıları atan her oyuncunun numarasının altına kalın bir yatay çizgi  \\n  çizecektir. \\n B.11.5  Her çeyreğin veya uzatmaların başlangıcında sayı görevlisi, çizilen yatay  \\n  çizgiden itibaren atılan sayıların devam eden kronolojik özetini tutmayı  \\n  sürdürecektir.'), Document(id='ff748e67-5c2d-42d0-87ba-20fb944fa977', metadata={'author': 'Murat Biricik', 'comments': '', 'company': '', 'creationdate': '2022-10-10T16:05:00+03:00', 'creator': 'Word için Acrobat PDFMaker 22', 'keywords': '', 'moddate': '2022-10-10T16:05:36+03:00', 'page': 15, 'page_label': '16', 'producer': 'Adobe PDF Library 22.1.174', 'source': 'basketbol_kural.pdf', 'sourcemodified': 'D:20221010130433', 'subject': '', 'title': '', 'total_pages': 97}, page_content='devam edebilir. \\n5.8 Başantrenör tarafından oyuna başlayacağı belirtilen ya da serbest atışlar arasında tedavi gören \\noyuncular, sakatlanma durumunda değiştirilebilir. Bu durumda rakibi de  isterse, aynı sayıda \\noyuncu değiştirebilir. \\nMadde 6  Kaptan: Görevleri ve yetkileri \\n6.1 Kaptan (CAP), sahada takımını temsil etmek üzere başantrenörü tarafından belirlenen bir \\noyuncudur. Oyun sırasında, sadece top ölü olduğunda ve oyun saati durduğunda, saygılı bir \\ntavırla, bilgi almak için hakemlerle iletişim kurabilir. \\n6.2 Takımı maçın sonucuna itiraz ederse, kaptan maçın bitiminden sonra 15 dakika içinde başhakemi \\nbilgilendirecek ve maç kağıdındaki “İtiraz durumunda kaptanın imzası” bölümünü imzalayacaktır.'), Document(id='6bc3d78a-1822-4ac4-a3c5-b37c45c9914c', metadata={'author': 'Murat Biricik', 'comments': '', 'company': '', 'creationdate': '2022-10-10T16:05:00+03:00', 'creator': 'Word için Acrobat PDFMaker 22', 'keywords': '', 'moddate': '2022-10-10T16:05:36+03:00', 'page': 22, 'page_label': '23', 'producer': 'Adobe PDF Library 22.1.174', 'source': 'basketbol_kural.pdf', 'sourcemodified': 'D:20221010130433', 'subject': '', 'title': '', 'total_pages': 97}, page_content='kabul edilir. \\n16.2 Kural \\n16.2.1 Top, hücum edilen rakibin sepetine girdiğinde aşağıdaki gibi sayı kaydedilir: \\n• Serbest atıştan yapıldığında 1 sayı \\n• 2 sayılık bölgeden yapıldığında 2 sayı \\n• 3 sayılık bölgeden yapıldığında 3 sayı \\n• Son serbest atışta top çembere temas ettikten sonra ve sepete girmeden önce, bir hücum ya \\nda savunma oyuncusu tarafından kurallara uygun olarak topa temas edildiğinde 2 sayı sayılır. \\n16.2.2 Bir oyuncu kazara/istem dışı olarak kendi sepetine sayı yaparsa 2 sayı verilir ve rakip takımın \\nsahadaki kaptanı yapmış gibi kaydedilir. \\n16.2.3 Bir oyuncu bilerek kendi sepetine sayı yaparsa bu bir ihlaldir ve sayı geçerli sayılmaz. \\n16.2.4 Bir oyuncu topun tamamının sepete alttan girmesine neden olursa, bu bir ihlaldir.  \\n16.2.5 Bir oyuncunun topun oyuna sokulmasında ya da son serbest atış sonrasındaki ribauntta topun \\nkontrolünü sağlaması ve bir atış girişiminde bulunabilmesi için oyun saati 0.3 (saniyenin onda'), Document(id='63fccd05-6425-4e50-9ecc-f21fe0938e89', metadata={'author': 'Murat Biricik', 'comments': '', 'company': '', 'creationdate': '2022-10-10T16:05:00+03:00', 'creator': 'Word için Acrobat PDFMaker 22', 'keywords': '', 'moddate': '2022-10-10T16:05:36+03:00', 'page': 20, 'page_label': '21', 'producer': 'Adobe PDF Library 22.1.174', 'source': 'basketbol_kural.pdf', 'sourcemodified': 'D:20221010130433', 'subject': '', 'title': '', 'total_pages': 97}, page_content='12.6.5 Pozisyon sırasına göre topun oyuna sokulması sırasında yapılan bir ihlal, o takımın pozisyon \\nsırasını kaybetmesine neden olur. İhlal yapan takımın rakibinin bir sonraki hava atışı durumunda, \\ntopu oyuna sokma hakkı olduğunu gösteren pozisyon okunun yönü hemen değiştirilecektir. \\nSonrasında oyun, ihlali yapan takımın rakibi tarafından, orijinal topu oyuna sokma noktasından \\ntopu oyuna sokmasıyla devam edecektir. \\n12.6.6 Herhangi bir takımın yaptığı faul, \\n• Birinci çeyrek ya da uzatmalar dışındaki bir çeyreğin başlamasından önce , ya da \\n• Pozisyon sırasına göre topun oyuna sokulması sırasında,  \\ntopu oyuna sokma hakkına sahip olan takımın pozisyon sırasını kaybetmesine neden olmaz.  \\n \\nMadde 13 Topla nasıl oynanır \\n13.1  Tanım \\n13.1.1 Oyun sırasında top sadece el ya da ellerle oynanabilir ve bu kurallar çerçevesinde herhangi bir \\nyöne pas verilebilir, atılabilir, tiplenebilir, yuvarlanabilir veya dripling yapılabilir. \\n13.2 Kural'), Document(id='123fb40d-9d88-40d6-949a-f64f18f9f699', metadata={'author': 'Murat Biricik', 'comments': '', 'company': '', 'creationdate': '2022-10-10T16:05:00+03:00', 'creator': 'Word için Acrobat PDFMaker 22', 'keywords': '', 'moddate': '2022-10-10T16:05:36+03:00', 'page': 39, 'page_label': '40', 'producer': 'Adobe PDF Library 22.1.174', 'source': 'basketbol_kural.pdf', 'sourcemodified': 'D:20221010130433', 'subject': '', 'title': '', 'total_pages': 97}, page_content='kollarını kendi silindiri içerisinde yukarıya doğru uzattığı için cezalandırılmamalıdır. \\nHücum oyuncusu ister sahada ister havada olsun, aşağıda belirtilen durumlarda kurallara uygun \\nsavunma pozisyonunda bulunan oyuncuya temasa neden olmayacaktır: \\n• Kendisine daha fazla yer açmak için kollarını kullanmak (iterek).  \\n• Sahadan yapılan bir atış sırasında ya da hemen sonrasında, temasa neden olacak şekilde \\nbacaklarını veya kollarını açmak. \\n33.3  Kurallara uygun savunma pozisyonu \\n  Bir savunma oyuncusu şu durumlarda kurallara uygun savunma pozisyonunu oluşturmuştur: \\n• Yüzü rakibine dönük olduğunda, ve \\n• Her iki ayağı zeminde olduğunda. \\n  Kurallara uygun savunma pozisyonu, zeminden tavana kadar oyuncunun üzerinde/silindirinde  \\n  dikey olarak uzanır. Oyuncu, kollarını ve ellerini başının üzerine kaldırabilir veya dikey olarak  \\n  sıçrayabilir, ancak onları hayali silindirinin içinde dikey bir pozisyonda tutması gerekir.  \\n33.4  Topu kontrol eden bir oyuncunun savunulması'), Document(id='2bb81aa0-eb70-4baf-b021-398ae6a4c1a0', metadata={'author': 'Murat Biricik', 'comments': '', 'company': '', 'creationdate': '2022-10-10T16:05:00+03:00', 'creator': 'Word için Acrobat PDFMaker 22', 'keywords': '', 'moddate': '2022-10-10T16:05:36+03:00', 'page': 34, 'page_label': '35', 'producer': 'Adobe PDF Library 22.1.174', 'source': 'basketbol_kural.pdf', 'sourcemodified': 'D:20221010130433', 'subject': '', 'title': '', 'total_pages': 97}, page_content='sahasından oyuna sokma hakkı olan takım tarafından alınan bir m ola sonrasında o takımın  \\n  başantrenörü oyunun, takımın ön sahasındaki oyuna sokma çizgisinden ya da takımın geri  \\n  sahasındaki oyunun durdurulduğu en yakın yerden topun oyuna sokularak devam edeceğine karar \\n  verme hakkına sahiptir. \\n  Moladan sonra topun oyuna sokulması aşağıdaki gibi yönetilecektir:  \\n• Eğer topun saha dışına çıkması sonucuysa ve o takımın; \\n- Geri sahasındaysa, şut saati durduğu süreden devam edecektir.  \\n- Ön sahasındaysa, şut saati 13 saniye ya da daha az gösteriyorsa durduğu süreden devam \\nedecektir. Şut saati 14 saniye ya da daha fazla gösteriyorsa, 14 saniyeye ayarlanacaktır.  \\n• Eğer bir faul ya da ihlal sonucundaysa (saha dışına çıkan top için değil) ve o takımın; \\n- Geri sahasındaysa, şut saati 24 saniyeye ayarlanacaktır.  \\n- Ön sahasındaysa, şut saati 14 saniyeye ayarlanacaktır. \\n• Eğer mola, topun yeni kontrolüne sahip olan takım tarafından alınırsa ve o takımın:'), Document(id='73d86c61-642f-4e1d-8079-9c29849b8a71', metadata={'author': 'Murat Biricik', 'comments': '', 'company': '', 'creationdate': '2022-10-10T16:05:00+03:00', 'creator': 'Word için Acrobat PDFMaker 22', 'keywords': '', 'moddate': '2022-10-10T16:05:36+03:00', 'page': 18, 'page_label': '19', 'producer': 'Adobe PDF Library 22.1.174', 'source': 'basketbol_kural.pdf', 'sourcemodified': 'D:20221010130433', 'subject': '', 'title': '', 'total_pages': 97}, page_content='- Bir hakem düdüğünü çaldığında. \\n- Oyun saati çeyreğin ya da uzatmanın sonu için sesli işaret verdiğinde . \\n- Şut saati sesli işaret verdiğinde. \\n• Serbest atış sırasında top havadayken ve bir hakem, serbest atışı atan oyuncu haricinde bir \\nkural ihlali için düdüğünü çaldığında. \\n• Herhangi bir rakip oyuncuya ya da rakibin takım sırasında oturmasına izin verilen herhangi bir \\nkişinin yaptığı faulden önce top, sahadan sayı amacıyla atış yapan oyuncunun \\nkontrolündedir. \\nBir hakem düdüğü çaldıktan sonra tamamiyle yeni bir atış hali meydana gelirse bu hüküm \\nuygulanmaz ve sayı geçerli sayılmaz.  \\n \\nMadde 11 Bir oyuncunun ve bir hakemin yeri \\n11.1  Bir oyuncunun yeri, zemine temas ettiği yere göre belirlenir.  \\nOyuncu havadayken, zemine en son temas ettiği andaki statüsünü korur. Bu, sınır çizgilerini, orta \\nçizgiyi, 3 sayı çizgisini, serbest atış çizgisini ve kısıtlamalı alanı belirl eyen çizgileri ve şarjsız \\nyarım daireyi belirleyen çizgileri içerir.')], 'answer': 'Arkadan yapılan kural dışı savunma, bir savunma oyuncusu tarafından bir rakibe arkadan yapılan bir kişisel temastır. Savunma oyuncusunun topla oynama girişimi, rakibine arkadan yaptığı temasın haklılığını göstermez.'}\n"
     ]
    }
   ],
   "source": [
    "print(response)"
   ]
  },
  {
   "cell_type": "code",
   "execution_count": 21,
   "id": "69cf5439-8d83-41b4-ab3c-968fc07da5d9",
   "metadata": {},
   "outputs": [
    {
     "name": "stdout",
     "output_type": "stream",
     "text": [
      "Arkadan yapılan kural dışı savunma, bir savunma oyuncusu tarafından bir rakibe arkadan yapılan bir kişisel temastır. Savunma oyuncusunun topla oynama girişimi, rakibine arkadan yaptığı temasın haklılığını göstermez.\n"
     ]
    }
   ],
   "source": [
    "print(response[\"answer\"]);"
   ]
  },
  {
   "cell_type": "code",
   "execution_count": null,
   "id": "dd3abc1a-edbc-4797-ab75-de49d9edaccf",
   "metadata": {},
   "outputs": [],
   "source": []
  }
 ],
 "metadata": {
  "kernelspec": {
   "display_name": "Python 3 (ipykernel)",
   "language": "python",
   "name": "python3"
  },
  "language_info": {
   "codemirror_mode": {
    "name": "ipython",
    "version": 3
   },
   "file_extension": ".py",
   "mimetype": "text/x-python",
   "name": "python",
   "nbconvert_exporter": "python",
   "pygments_lexer": "ipython3",
   "version": "3.10.16"
  }
 },
 "nbformat": 4,
 "nbformat_minor": 5
}
